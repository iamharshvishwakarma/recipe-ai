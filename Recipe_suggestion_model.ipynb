{
  "nbformat": 4,
  "nbformat_minor": 0,
  "metadata": {
    "colab": {
      "provenance": [],
      "authorship_tag": "ABX9TyPDo7eHTNVA6rLOeTiO0bZc",
      "include_colab_link": true
    },
    "kernelspec": {
      "name": "python3",
      "display_name": "Python 3"
    },
    "language_info": {
      "name": "python"
    }
  },
  "cells": [
    {
      "cell_type": "markdown",
      "metadata": {
        "id": "view-in-github",
        "colab_type": "text"
      },
      "source": [
        "<a href=\"https://colab.research.google.com/github/iamharshvishwakarma/recipe-ai/blob/main/Recipe_suggestion_model.ipynb\" target=\"_parent\"><img src=\"https://colab.research.google.com/assets/colab-badge.svg\" alt=\"Open In Colab\"/></a>"
      ]
    },
    {
      "cell_type": "code",
      "source": [
        "import pandas as pd\n",
        "import cv2\n",
        "import numpy as np\n",
        "from tensorflow.keras.applications.mobilenet_v2 import MobileNetV2, preprocess_input, decode_predictions\n",
        "from tensorflow.keras.preprocessing import image\n",
        "from sklearn.feature_extraction.text import TfidfVectorizer\n",
        "from sklearn.metrics.pairwise import cosine_similarity\n",
        "\n",
        "def preprocess_ingredients(ingredients):\n",
        "    return ingredients.lower().replace(\",\", \" \")\n",
        "\n",
        "def recommend_recipes(user_ingredients, df, top_n=5):\n",
        "    df['Processed_Ingredients'] = df['Cleaned-Ingredients'].apply(preprocess_ingredients)\n",
        "    user_ingredients = preprocess_ingredients(user_ingredients)\n",
        "\n",
        "    # TF-IDF Vectorization\n",
        "    vectorizer = TfidfVectorizer()\n",
        "    tfidf_matrix = vectorizer.fit_transform(df['Processed_Ingredients'])\n",
        "    user_tfidf = vectorizer.transform([user_ingredients])\n",
        "\n",
        "    # Compute Cosine Similarity\n",
        "    similarity_scores = cosine_similarity(user_tfidf, tfidf_matrix).flatten()\n",
        "    top_indices = similarity_scores.argsort()[-top_n:][::-1]\n",
        "\n",
        "    # Retrieve and display top matching recipes\n",
        "    recommendations = df.iloc[top_indices][['TranslatedRecipeName', 'TotalTimeInMins', 'Cuisine', 'TranslatedInstructions', 'image-url']]\n",
        "    return recommendations\n",
        "\n",
        "def detect_ingredients_from_image(image_path):\n",
        "    model = MobileNetV2(weights='imagenet')\n",
        "    img = image.load_img(image_path, target_size=(224, 224))\n",
        "    img_array = image.img_to_array(img)\n",
        "    img_array = np.expand_dims(img_array, axis=0)\n",
        "    img_array = preprocess_input(img_array)\n",
        "\n",
        "    preds = model.predict(img_array)\n",
        "    decoded_preds = decode_predictions(preds, top=5)[0]\n",
        "\n",
        "    ingredients = [item[1] for item in decoded_preds]  # Extract top predicted ingredients\n",
        "    return \", \".join(ingredients)\n",
        "\n",
        "def capture_image():\n",
        "    cam = cv2.VideoCapture(0)\n",
        "    cv2.namedWindow(\"Capture Image\")\n",
        "    while True:\n",
        "        ret, frame = cam.read()\n",
        "        if not ret:\n",
        "            print(\"Failed to grab frame\")\n",
        "            break\n",
        "        cv2.imshow(\"Capture Image\", frame)\n",
        "        if cv2.waitKey(1) & 0xFF == ord('c'):\n",
        "            image_path = \"captured_image.jpg\"\n",
        "            cv2.imwrite(image_path, frame)\n",
        "            print(\"Image captured and saved as\", image_path)\n",
        "            break\n",
        "    cam.release()\n",
        "    cv2.destroyAllWindows()\n",
        "    return image_path\n",
        "\n",
        "# Load the dataset\n",
        "df = pd.read_csv(\"/content/Cleaned_Indian_Food_Dataset.csv\")\n",
        "\n",
        "# User choice for input method\n",
        "choice = input(\"Enter 'text' to input ingredients, 'image' to upload an image, or 'camera' to capture an image: \").strip().lower()\n",
        "\n",
        "if choice == 'text':\n",
        "    user_ingredients = input(\"Enter available ingredients (comma-separated): \")\n",
        "elif choice == 'image':\n",
        "    image_path = input(\"Enter the path of the ingredient image: \")\n",
        "    user_ingredients = detect_ingredients_from_image(image_path)\n",
        "    print(f\"Detected ingredients: {user_ingredients}\")\n",
        "elif choice == 'camera':\n",
        "    image_path = capture_image()\n",
        "    user_ingredients = detect_ingredients_from_image(image_path)\n",
        "    print(f\"Detected ingredients: {user_ingredients}\")\n",
        "else:\n",
        "    print(\"Invalid choice. Please enter 'text', 'image', or 'camera'.\")\n",
        "    exit()\n",
        "\n",
        "recommended_recipes = recommend_recipes(user_ingredients, df)\n",
        "print(recommended_recipes)\n"
      ],
      "metadata": {
        "colab": {
          "base_uri": "https://localhost:8080/"
        },
        "id": "bIt4Jsu05fua",
        "outputId": "a8128cc3-20eb-4fe4-99dc-2ef5f3177c7c"
      },
      "execution_count": null,
      "outputs": [
        {
          "output_type": "stream",
          "name": "stdout",
          "text": [
            "Enter 'text' to input ingredients, 'image' to upload an image, or 'camera' to capture an image: text\n",
            "Enter available ingredients (comma-separated): water\n",
            "                                   TranslatedRecipeName  TotalTimeInMins  \\\n",
            "2471                    Cucumber Ginger Lemonade Recipe               15   \n",
            "1545  Mor Milagai Recipe - South Indian Sun Dried Ch...               10   \n",
            "4326         Ujju Rotti Recipe (Indian Rice Flat Bread)               50   \n",
            "5867                  Refreshing Sweet Lime Soda Recipe               15   \n",
            "392   Mishti Doi Recipe - Traditional Bengali Sweet ...               40   \n",
            "\n",
            "                   Cuisine                             TranslatedInstructions  \\\n",
            "2471           Continental  To start making Cucumber Ginger Mint Lemonade,...   \n",
            "1545  South Indian Recipes  To begin making the Mor Milagai, first wash th...   \n",
            "4326                Indian  To prepare Ujju Rotti Recipe (Indian Rice Flat...   \n",
            "5867                Indian  To begin making the Refreshing Sweet Lime Soda...   \n",
            "392        Bengali Recipes  To begin making the Mishti Doi Recipe, place a...   \n",
            "\n",
            "                                              image-url  \n",
            "2471  https://www.archanaskitchen.com/images/archana...  \n",
            "1545  https://www.archanaskitchen.com/images/archana...  \n",
            "4326  https://www.archanaskitchen.com/images/archana...  \n",
            "5867  https://www.archanaskitchen.com/images/archana...  \n",
            "392   https://www.archanaskitchen.com/images/archana...  \n"
          ]
        }
      ]
    }
  ]
}